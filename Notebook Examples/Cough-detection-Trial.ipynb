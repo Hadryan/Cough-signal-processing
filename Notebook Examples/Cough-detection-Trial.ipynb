{
 "cells": [
  {
   "cell_type": "markdown",
   "metadata": {},
   "source": [
    "# Importing Libraries"
   ]
  },
  {
   "cell_type": "code",
   "execution_count": 1,
   "metadata": {
    "ExecuteTime": {
     "end_time": "2020-05-02T07:02:55.720575Z",
     "start_time": "2020-05-02T07:02:45.000709Z"
    }
   },
   "outputs": [],
   "source": [
    "import librosa\n",
    "import os\n",
    "import numpy as np\n",
    "import matplotlib.pyplot as plt\n",
    "from librosa.feature import melspectrogram\n",
    "from librosa.util import normalize\n",
    "from librosa.display import waveplot"
   ]
  },
  {
   "cell_type": "markdown",
   "metadata": {},
   "source": [
    "# Setting Directory variables"
   ]
  },
  {
   "cell_type": "code",
   "execution_count": 2,
   "metadata": {
    "ExecuteTime": {
     "end_time": "2020-05-02T07:02:56.707207Z",
     "start_time": "2020-05-02T07:02:56.703995Z"
    }
   },
   "outputs": [],
   "source": [
    "## Data library\n",
    "\n",
    "dryCoughData = 'C:/Users/tpaulraj/Dropbox/Projects/Cough Research/Cough-data/Dry_cough/'\n",
    "wetCoughData = 'C:/Users/tpaulraj/Dropbox/Projects/Cough Research/Cough-data/Wet_cough/'"
   ]
  },
  {
   "cell_type": "markdown",
   "metadata": {},
   "source": [
    "# Functions"
   ]
  },
  {
   "cell_type": "markdown",
   "metadata": {},
   "source": [
    "## Read Cough Data"
   ]
  },
  {
   "cell_type": "code",
   "execution_count": 3,
   "metadata": {
    "ExecuteTime": {
     "end_time": "2020-05-02T07:02:57.436551Z",
     "start_time": "2020-05-02T07:02:57.431596Z"
    }
   },
   "outputs": [],
   "source": [
    "#Read original data\n",
    "\n",
    "def readCoughData(file):\n",
    "    origData,origSampFreq = librosa.load(file, sr=None)\n",
    "    return origData, origSampFreq"
   ]
  },
  {
   "cell_type": "markdown",
   "metadata": {},
   "source": [
    "## Resample sound array"
   ]
  },
  {
   "cell_type": "code",
   "execution_count": 4,
   "metadata": {
    "ExecuteTime": {
     "end_time": "2020-05-02T07:02:57.953501Z",
     "start_time": "2020-05-02T07:02:57.949883Z"
    }
   },
   "outputs": [],
   "source": [
    "# resample original data to 16000 Khz\n",
    "\n",
    "def resample(originalData, origSampFreq, targetSampFreq):\n",
    "    resampledData = librosa.resample(y=origData, orig_sr=origSampFreq, target_sr=targetSampFreq)\n",
    "    return resampledData"
   ]
  },
  {
   "cell_type": "markdown",
   "metadata": {},
   "source": [
    "## Normalize Sound Array"
   ]
  },
  {
   "cell_type": "code",
   "execution_count": 5,
   "metadata": {
    "ExecuteTime": {
     "end_time": "2020-05-02T07:02:58.421192Z",
     "start_time": "2020-05-02T07:02:58.415589Z"
    }
   },
   "outputs": [],
   "source": [
    "# Normalize Sound Data\n",
    "\n",
    "def normalizeSound(resampledData, axis):\n",
    "    \"\"\" Axis is 0 for row-wise and 1 \n",
    "    for column wise\"\"\"\n",
    "    normalizedData = normalize(resampledData, axis)\n",
    "    return normalizedData"
   ]
  },
  {
   "cell_type": "markdown",
   "metadata": {},
   "source": [
    "## Calculate Mel-Spectrum"
   ]
  },
  {
   "cell_type": "code",
   "execution_count": 51,
   "metadata": {
    "ExecuteTime": {
     "end_time": "2020-05-02T08:05:49.289876Z",
     "start_time": "2020-05-02T08:05:49.285208Z"
    }
   },
   "outputs": [],
   "source": [
    "# Calculate Mel-Spectogram\n",
    "\n",
    "def calculateMelSpectogram(normalizedData, hop_length, win_length, sr):\n",
    "    #newSamplingFreq = 16000\n",
    "    S=librosa.feature.melspectrogram(normalizedData, sr=sr, hop_length=hop_length, win_length=win_length)\n",
    "    return S"
   ]
  },
  {
   "cell_type": "markdown",
   "metadata": {},
   "source": [
    "## Plotting Sound Data"
   ]
  },
  {
   "cell_type": "code",
   "execution_count": 7,
   "metadata": {
    "ExecuteTime": {
     "end_time": "2020-05-02T07:02:59.424333Z",
     "start_time": "2020-05-02T07:02:59.419978Z"
    }
   },
   "outputs": [],
   "source": [
    "# plot orginal time domain data\n",
    "\n",
    "def plotSound(soundData, sr, x_axis_string):\n",
    "    waveplot(soundData, sr, x_axis=x_axis_string)"
   ]
  },
  {
   "cell_type": "markdown",
   "metadata": {},
   "source": [
    "## Plotting Mel-Spectogram"
   ]
  },
  {
   "cell_type": "code",
   "execution_count": 8,
   "metadata": {
    "ExecuteTime": {
     "end_time": "2020-05-02T07:02:59.852903Z",
     "start_time": "2020-05-02T07:02:59.845921Z"
    }
   },
   "outputs": [],
   "source": [
    "#Plot melspectogram\n",
    "\n",
    "def plotMelSpectogram(S, sr, ref=np.max):\n",
    "    plt.figure(figsize=(10, 4))\n",
    "    S_dB = librosa.power_to_db(S, ref=np.max)\n",
    "    librosa.display.specshow(S_dB, x_axis='time',y_axis='mel', sr=16000,)\n",
    "    plt.colorbar(format='%+2.0f dB')\n",
    "    plt.title('Mel-frequency spectrogram')\n",
    "    plt.tight_layout()\n",
    "    plt.show()"
   ]
  },
  {
   "cell_type": "markdown",
   "metadata": {},
   "source": [
    "# Combining all the functions above to create a single function"
   ]
  },
  {
   "cell_type": "markdown",
   "metadata": {},
   "source": [
    "## Setting Target sampling frequency\n",
    "\n",
    "I decide to set target sampling frequency to 16000 for cough "
   ]
  },
  {
   "cell_type": "code",
   "execution_count": 13,
   "metadata": {
    "ExecuteTime": {
     "end_time": "2020-05-02T07:03:28.443800Z",
     "start_time": "2020-05-02T07:03:28.440899Z"
    }
   },
   "outputs": [],
   "source": [
    "targetSampFreq = 16000"
   ]
  },
  {
   "cell_type": "code",
   "execution_count": 30,
   "metadata": {
    "ExecuteTime": {
     "end_time": "2020-05-02T07:10:45.084930Z",
     "start_time": "2020-05-02T07:10:45.080209Z"
    }
   },
   "outputs": [],
   "source": [
    "def featureExtraction(audioFile, targetSampFreq, axis, hop_length,win_length):\n",
    "    origData, origSampFreq = readCoughData(audioFile)\n",
    "    resampledData = resample(origData, origSampFreq, targetSampFreq=targetSampFreq)\n",
    "    normalizedData = normalizeSound(resampledData, axis=axis)\n",
    "    S = calculateMelSpectogram(normalizedData, hop_length, win_length, sr=targetSampFreq)\n",
    "    plotSound(soundData=normalizedData, sr=targetSampFreq,x_axis_string='time')\n",
    "    plotMelSpectogram(S, sr=targetSampFreq, ref=np.max)"
   ]
  },
  {
   "cell_type": "code",
   "execution_count": 31,
   "metadata": {
    "ExecuteTime": {
     "end_time": "2020-05-02T07:10:48.372776Z",
     "start_time": "2020-05-02T07:10:45.820180Z"
    },
    "scrolled": false
   },
   "outputs": [
    {
     "data": {
      "image/png": "[encoded data removed]",
      "text/plain": [
       "<Figure size 432x288 with 1 Axes>"
      ]
     },
     "metadata": {
      "needs_background": "light"
     },
     "output_type": "display_data"
    },
    {
     "data": {
      "image/png": "[encoded data removed]",
      "text/plain": [
       "<Figure size 720x288 with 2 Axes>"
      ]
     },
     "metadata": {
      "needs_background": "light"
     },
     "output_type": "display_data"
    }
   ],
   "source": [
    "featureExtraction(audioFile=wetCoughData+'Wet cough 32.m4a', targetSampFreq=16000,axis=0,hop_length=256, win_length=512)"
   ]
  },
  {
   "cell_type": "code",
   "execution_count": 56,
   "metadata": {
    "ExecuteTime": {
     "end_time": "2020-05-02T14:47:51.480855Z",
     "start_time": "2020-05-02T14:47:51.475139Z"
    }
   },
   "outputs": [],
   "source": [
    "import tensorflow as tf\n",
    "import h5py\n",
    "import numpy as np\n",
    "import pandas as pd\n",
    "from tensorflow.python.keras import backend as K\n",
    "from matplotlib import pyplot as plt\n",
    "from tensorflow import keras\n",
    "from tensorflow.keras.layers import MaxPooling2D, Conv2D, Dense, Activation, Flatten, Dropout, Input\n",
    "from tensorflow.keras.models import Model\n",
    "from tensorflow.keras.optimizers import Adam, RMSprop"
   ]
  },
  {
   "cell_type": "code",
   "execution_count": 59,
   "metadata": {
    "ExecuteTime": {
     "end_time": "2020-05-02T14:49:42.548322Z",
     "start_time": "2020-05-02T14:49:42.537578Z"
    }
   },
   "outputs": [],
   "source": [
    "def cough_detection_model():\n",
    "    input_layer = Input((432,228,1))\n",
    "    x = MaxPooling2D(pool_size=(2, 2))(input_layer)\n",
    "    x = Conv2D(filters=32,kernel_size=(5,5),padding='same')(x)\n",
    "    x = Activation('relu')(x)\n",
    "    x = MaxPooling2D(pool_size=(2, 2))(x)\n",
    "    x = Conv2D(filters=32,kernel_size=(5,5),padding='same')(x)\n",
    "    x = Activation('relu')(x)\n",
    "    x = MaxPooling2D(pool_size=(2, 2))(input_layer)\n",
    "    x = Flatten()(x)\n",
    "    x = Dense(128)(x)\n",
    "    x = Activation('relu')(x)\n",
    "    x = Dropout(0.5)(x)\n",
    "    x = Dense(128)(x)\n",
    "    x = Activation('relu')(x)\n",
    "    x = Dropout(0.5)(x)\n",
    "    output_layer = Dense(2,activation = 'softmax')(x)\n",
    "    model = Model(inputs=input_layer,outputs=output_layer)\n",
    "    adam = Adam(lr=0.0001)\n",
    "    model.compile(loss='binary_crossentropy',optimizer=adam,metrics=['accuracy'])\n",
    "    return model"
   ]
  },
  {
   "cell_type": "code",
   "execution_count": 63,
   "metadata": {
    "ExecuteTime": {
     "end_time": "2020-05-02T14:54:03.250798Z",
     "start_time": "2020-05-02T14:54:03.244814Z"
    }
   },
   "outputs": [
    {
     "data": {
      "text/plain": [
       "(128, 98)"
      ]
     },
     "execution_count": 63,
     "metadata": {},
     "output_type": "execute_result"
    }
   ],
   "source": [
    "S.shape"
   ]
  },
  {
   "cell_type": "code",
   "execution_count": null,
   "metadata": {},
   "outputs": [],
   "source": []
  }
 ],
 "metadata": {
  "kernelspec": {
   "display_name": "Python 3",
   "language": "python",
   "name": "python3"
  },
  "language_info": {
   "codemirror_mode": {
    "name": "ipython",
    "version": 3
   },
   "file_extension": ".py",
   "mimetype": "text/x-python",
   "name": "python",
   "nbconvert_exporter": "python",
   "pygments_lexer": "ipython3",
   "version": "3.7.4"
  },
  "toc": {
   "base_numbering": 1,
   "nav_menu": {},
   "number_sections": true,
   "sideBar": true,
   "skip_h1_title": false,
   "title_cell": "Table of Contents",
   "title_sidebar": "Contents",
   "toc_cell": false,
   "toc_position": {},
   "toc_section_display": true,
   "toc_window_display": false
  }
 },
 "nbformat": 4,
 "nbformat_minor": 4
}
