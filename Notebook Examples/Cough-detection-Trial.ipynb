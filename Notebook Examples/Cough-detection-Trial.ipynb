{
 "cells": [
  {
   "cell_type": "code",
   "execution_count": 1,
   "metadata": {
    "ExecuteTime": {
     "end_time": "2020-04-20T17:18:20.748445Z",
     "start_time": "2020-04-20T17:18:09.707771Z"
    }
   },
   "outputs": [],
   "source": [
    "import librosa\n",
    "import os"
   ]
  },
  {
   "cell_type": "code",
   "execution_count": 13,
   "metadata": {
    "ExecuteTime": {
     "end_time": "2020-04-20T17:22:39.342156Z",
     "start_time": "2020-04-20T17:22:39.338896Z"
    }
   },
   "outputs": [],
   "source": [
    "dryCoughData = 'C:/Users/tpaulraj/Dropbox/Projects/Cough Research/Cough-data/Dry_cough/'"
   ]
  },
  {
   "cell_type": "code",
   "execution_count": 20,
   "metadata": {
    "ExecuteTime": {
     "end_time": "2020-04-20T17:33:47.496182Z",
     "start_time": "2020-04-20T17:33:47.489071Z"
    }
   },
   "outputs": [
    {
     "data": {
      "text/plain": [
       "['man cough dry inhale zpasplat.m4a',\n",
       " 'Man cough x5 dry chesty zapsplat.m4a',\n",
       " 'man coughing close and dry cough zapsplat.m4a',\n",
       " 'readme.txt']"
      ]
     },
     "execution_count": 20,
     "metadata": {},
     "output_type": "execute_result"
    }
   ],
   "source": [
    "os.chdir(dryCoughData)\n",
    "os.listdir()"
   ]
  },
  {
   "cell_type": "code",
   "execution_count": 26,
   "metadata": {
    "ExecuteTime": {
     "end_time": "2020-04-20T18:25:51.756069Z",
     "start_time": "2020-04-20T18:25:51.399027Z"
    }
   },
   "outputs": [
    {
     "name": "stderr",
     "output_type": "stream",
     "text": [
      "C:\\Anacondaconda3\\lib\\site-packages\\librosa\\core\\audio.py:146: UserWarning: PySoundFile failed. Trying audioread instead.\n",
      "  warnings.warn('PySoundFile failed. Trying audioread instead.')\n"
     ]
    }
   ],
   "source": [
    "y,fs = librosa.load('man coughing close and dry cough zapsplat.m4a', sr=None)"
   ]
  },
  {
   "cell_type": "code",
   "execution_count": 38,
   "metadata": {
    "ExecuteTime": {
     "end_time": "2020-04-20T18:28:11.565947Z",
     "start_time": "2020-04-20T18:28:11.531004Z"
    }
   },
   "outputs": [],
   "source": [
    "mfcc = librosa.feature.mfcc(y=y, sr=fs)"
   ]
  }
 ],
 "metadata": {
  "kernelspec": {
   "display_name": "Python 3",
   "language": "python",
   "name": "python3"
  },
  "language_info": {
   "codemirror_mode": {
    "name": "ipython",
    "version": 3
   },
   "file_extension": ".py",
   "mimetype": "text/x-python",
   "name": "python",
   "nbconvert_exporter": "python",
   "pygments_lexer": "ipython3",
   "version": "3.7.4"
  },
  "toc": {
   "base_numbering": 1,
   "nav_menu": {},
   "number_sections": true,
   "sideBar": true,
   "skip_h1_title": false,
   "title_cell": "Table of Contents",
   "title_sidebar": "Contents",
   "toc_cell": false,
   "toc_position": {},
   "toc_section_display": true,
   "toc_window_display": false
  }
 },
 "nbformat": 4,
 "nbformat_minor": 4
}
